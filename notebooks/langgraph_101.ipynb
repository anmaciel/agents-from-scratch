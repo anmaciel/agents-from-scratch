{
 "cells": [
  {
   "cell_type": "markdown",
   "id": "dc082433",
   "metadata": {},
   "source": [
    "# LangGraph 101\n",
    "\n",
    "[LLMs](https://python.langchain.com/docs/concepts/chat_models/) tornam possível incorporar inteligência em uma nova classe de aplicações. [LangGraph](https://langchain-ai.github.io/langgraph/) é um framework para ajudar a construir aplicações com LLMs. Aqui, vamos revisar o básico do LangGraph, explicar seus benefícios, mostrar como usá-lo para construir fluxos de trabalho / agentes, e mostrar como funciona com [LangChain](https://www.langchain.com/) / [LangSmith](https://docs.smith.langchain.com/).\n",
    "\n",
    "![ecosystem](./img/ecosystem.png)\n",
    "\n",
    "## Modelos de chat\n",
    "\n",
    "[Modelos de chat](https://python.langchain.com/docs/concepts/chat_models/) são a base das aplicações LLM. Eles são tipicamente acessados através de uma interface de chat que recebe uma lista de [mensagens](https://python.langchain.com/docs/concepts/messages/) como entrada e retorna uma [mensagem](https://python.langchain.com/docs/concepts/messages/) como saída. LangChain fornece [uma interface padronizada para modelos de chat](https://python.langchain.com/api_reference/langchain/chat_models/langchain.chat_models.base.init_chat_model.html), facilitando [acessar muitos provedores diferentes](https://python.langchain.com/docs/integrations/chat/)."
   ]
  },
  {
   "cell_type": "code",
   "execution_count": 48,
   "id": "cecc2b24",
   "metadata": {},
   "outputs": [
    {
     "data": {
      "text/plain": [
       "True"
      ]
     },
     "execution_count": 48,
     "metadata": {},
     "output_type": "execute_result"
    }
   ],
   "source": [
    "from dotenv import load_dotenv\n",
    "load_dotenv()"
   ]
  },
  {
   "cell_type": "code",
   "execution_count": 50,
   "id": "e0ee8f6c",
   "metadata": {},
   "outputs": [],
   "source": [
    "from langchain.chat_models import init_chat_model\n",
    "llm = init_chat_model(\"gemini-2.5-flash\", model_provider=\"google-genai\", temperature=0)"
   ]
  },
  {
   "cell_type": "markdown",
   "id": "50777b0b",
   "metadata": {},
   "source": [
    "## Executando o modelo\n",
    "\n",
    "A interface `init_chat_model` fornece métodos [padronizados](https://python.langchain.com/docs/concepts/runnables/) para usar modelos de chat, que incluem:\n",
    "- `invoke()`: Uma única entrada é transformada em uma saída.\n",
    "- `stream()`: As saídas são [transmitidas](https://python.langchain.com/docs/concepts/streaming/#stream-and-astream) conforme são produzidas."
   ]
  },
  {
   "cell_type": "code",
   "execution_count": 51,
   "id": "a28159d5",
   "metadata": {},
   "outputs": [],
   "source": [
    "result = llm.invoke(\"O que é um agente?\")"
   ]
  },
  {
   "cell_type": "code",
   "execution_count": 52,
   "id": "41137023",
   "metadata": {},
   "outputs": [
    {
     "data": {
      "text/plain": [
       "langchain_core.messages.ai.AIMessage"
      ]
     },
     "execution_count": 52,
     "metadata": {},
     "output_type": "execute_result"
    }
   ],
   "source": [
    "type(result)"
   ]
  },
  {
   "cell_type": "code",
   "execution_count": 53,
   "id": "dc1d00eb",
   "metadata": {},
   "outputs": [
    {
     "data": {
      "text/html": [
       "<pre style=\"white-space:pre;overflow-x:auto;line-height:normal;font-family:Menlo,'DejaVu Sans Mono',consolas,'Courier New',monospace\">Um <span style=\"font-weight: bold\">agente</span> é, em sua essência, algo que <span style=\"font-weight: bold\">percebe</span> seu ambiente e <span style=\"font-weight: bold\">atua</span> nele para alcançar certos <span style=\"font-weight: bold\">objetivos</span>.            \n",
       "\n",
       "Essa definição é bastante ampla e pode ser aplicada em diversos contextos, desde a biologia até a inteligência     \n",
       "artificial.                                                                                                        \n",
       "\n",
       "Vamos detalhar os componentes principais:                                                                          \n",
       "\n",
       "<span style=\"color: #808000; text-decoration-color: #808000; font-weight: bold\"> 1 </span><span style=\"font-weight: bold\">Percepção (Sensores):</span> O agente precisa ser capaz de \"sentir\" ou \"observar\" o que está acontecendo em seu        \n",
       "<span style=\"color: #808000; text-decoration-color: #808000; font-weight: bold\">   </span>ambiente. Isso pode ser feito através de:                                                                       \n",
       "<span style=\"color: #808000; text-decoration-color: #808000; font-weight: bold\">    • </span><span style=\"font-weight: bold\">Sentidos biológicos:</span> Olhos, ouvidos, tato, olfato (para humanos e animais).                                  \n",
       "<span style=\"color: #808000; text-decoration-color: #808000; font-weight: bold\">    • </span><span style=\"font-weight: bold\">Sensores eletrônicos:</span> Câmeras, microfones, radares, GPS, termômetros (para robôs e sistemas de IA).          \n",
       "<span style=\"color: #808000; text-decoration-color: #808000; font-weight: bold\">    • </span><span style=\"font-weight: bold\">Dados de entrada:</span> Informações digitais, comandos de usuário, dados de bancos de dados (para agentes de       \n",
       "<span style=\"color: #808000; text-decoration-color: #808000; font-weight: bold\">      </span>software).                                                                                                   \n",
       "<span style=\"color: #808000; text-decoration-color: #808000; font-weight: bold\"> 2 </span><span style=\"font-weight: bold\">Ambiente:</span> É o mundo ou o contexto onde o agente opera e interage. Pode ser:                                     \n",
       "<span style=\"color: #808000; text-decoration-color: #808000; font-weight: bold\">    • </span>O mundo físico (para um robô, um carro autônomo).                                                            \n",
       "<span style=\"color: #808000; text-decoration-color: #808000; font-weight: bold\">    • </span>Um sistema de computador, a internet (para um chatbot, um sistema de recomendação).                          \n",
       "<span style=\"color: #808000; text-decoration-color: #808000; font-weight: bold\">    • </span>Um corpo humano (para um vírus ou bactéria).                                                                 \n",
       "<span style=\"color: #808000; text-decoration-color: #808000; font-weight: bold\"> 3 </span><span style=\"font-weight: bold\">Ação (Atuadores):</span> O agente precisa ser capaz de \"fazer\" algo no ambiente, de influenciá-lo. Isso pode ser       \n",
       "<span style=\"color: #808000; text-decoration-color: #808000; font-weight: bold\">   </span>através de:                                                                                                     \n",
       "<span style=\"color: #808000; text-decoration-color: #808000; font-weight: bold\">    • </span><span style=\"font-weight: bold\">Movimento físico:</span> Andar, pegar, empurrar (para humanos, animais, robôs).                                     \n",
       "<span style=\"color: #808000; text-decoration-color: #808000; font-weight: bold\">    • </span><span style=\"font-weight: bold\">Comandos digitais:</span> Enviar uma mensagem, exibir uma informação, modificar um arquivo, executar um programa    \n",
       "<span style=\"color: #808000; text-decoration-color: #808000; font-weight: bold\">      </span>(para agentes de software).                                                                                  \n",
       "<span style=\"color: #808000; text-decoration-color: #808000; font-weight: bold\">    • </span><span style=\"font-weight: bold\">Reações químicas/biológicas:</span> Multiplicação, liberação de toxinas (para agentes biológicos).                  \n",
       "<span style=\"color: #808000; text-decoration-color: #808000; font-weight: bold\"> 4 </span><span style=\"font-weight: bold\">Objetivos:</span> O agente geralmente tem uma razão para agir, um propósito. Pode ser:                                 \n",
       "<span style=\"color: #808000; text-decoration-color: #808000; font-weight: bold\">    • </span>Sobreviver, reproduzir (para agentes biológicos).                                                            \n",
       "<span style=\"color: #808000; text-decoration-color: #808000; font-weight: bold\">    • </span>Completar uma tarefa, otimizar um processo, responder a uma pergunta (para agentes de IA e software).        \n",
       "<span style=\"color: #808000; text-decoration-color: #808000; font-weight: bold\">    • </span>Alcançar um estado desejado (para um sistema de controle).                                                   \n",
       "\n",
       "<span style=\"font-weight: bold\">Em resumo, um agente é uma entidade que:</span>                                                                           \n",
       "\n",
       "<span style=\"color: #808000; text-decoration-color: #808000; font-weight: bold\"> • </span><span style=\"font-weight: bold\">Observa</span> (percebe) seu entorno.                                                                                  \n",
       "<span style=\"color: #808000; text-decoration-color: #808000; font-weight: bold\"> • </span><span style=\"font-weight: bold\">Processa</span> essa informação (toma decisões, raciocina).                                                            \n",
       "<span style=\"color: #808000; text-decoration-color: #808000; font-weight: bold\"> • </span><span style=\"font-weight: bold\">Age</span> (atua) no ambiente.                                                                                         \n",
       "<span style=\"color: #808000; text-decoration-color: #808000; font-weight: bold\"> • </span>Com o objetivo de alcançar um <span style=\"font-weight: bold\">fim específico</span>.                                                                   \n",
       "\n",
       "<span style=\"color: #808000; text-decoration-color: #808000\">───────────────────────────────────────────────────────────────────────────────────────────────────────────────────</span>\n",
       "<span style=\"font-weight: bold\">Exemplos de Agentes em diferentes contextos:</span>                                                                       \n",
       "\n",
       "<span style=\"color: #808000; text-decoration-color: #808000; font-weight: bold\"> • </span><span style=\"font-weight: bold\">Inteligência Artificial (IA):</span>                                                                                   \n",
       "<span style=\"color: #808000; text-decoration-color: #808000; font-weight: bold\">    • </span><span style=\"font-weight: bold\">Agente de software:</span> Um chatbot que responde a perguntas, um sistema de recomendação que sugere produtos, um  \n",
       "<span style=\"color: #808000; text-decoration-color: #808000; font-weight: bold\">      </span>web crawler que indexa páginas da internet.                                                                  \n",
       "<span style=\"color: #808000; text-decoration-color: #808000; font-weight: bold\">    • </span><span style=\"font-weight: bold\">Agente robótico:</span> Um carro autônomo que percebe a estrada e dirige, um robô industrial que manipula peças, um \n",
       "<span style=\"color: #808000; text-decoration-color: #808000; font-weight: bold\">      </span>drone que mapeia uma área.                                                                                   \n",
       "<span style=\"color: #808000; text-decoration-color: #808000; font-weight: bold\">    • </span><span style=\"font-weight: bold\">Agente de jogo:</span> Um personagem não-jogador (NPC) em um videogame que reage ao jogador e ao ambiente.          \n",
       "<span style=\"color: #808000; text-decoration-color: #808000; font-weight: bold\"> • </span><span style=\"font-weight: bold\">Biologia:</span>                                                                                                       \n",
       "<span style=\"color: #808000; text-decoration-color: #808000; font-weight: bold\">    • </span><span style=\"font-weight: bold\">Um animal:</span> Percebe predadores, busca alimento, se reproduz.                                                  \n",
       "<span style=\"color: #808000; text-decoration-color: #808000; font-weight: bold\">    • </span><span style=\"font-weight: bold\">Um vírus ou bactéria:</span> Invade células, se replica, causa doenças.                                             \n",
       "<span style=\"color: #808000; text-decoration-color: #808000; font-weight: bold\"> • </span><span style=\"font-weight: bold\">Economia/Sociologia:</span>                                                                                            \n",
       "<span style=\"color: #808000; text-decoration-color: #808000; font-weight: bold\">    • </span><span style=\"font-weight: bold\">Um agente econômico:</span> Uma pessoa, uma empresa, um governo que toma decisões e age no mercado.                 \n",
       "<span style=\"color: #808000; text-decoration-color: #808000; font-weight: bold\">    • </span><span style=\"font-weight: bold\">Um agente de mudança:</span> Uma pessoa ou grupo que influencia transformações sociais.                             \n",
       "<span style=\"color: #808000; text-decoration-color: #808000; font-weight: bold\"> • </span><span style=\"font-weight: bold\">Cotidiano:</span>                                                                                                      \n",
       "<span style=\"color: #808000; text-decoration-color: #808000; font-weight: bold\">    • </span><span style=\"font-weight: bold\">Um agente imobiliário:</span> Percebe as necessidades do cliente e do mercado, atua para vender ou alugar imóveis.  \n",
       "<span style=\"color: #808000; text-decoration-color: #808000; font-weight: bold\">    • </span><span style=\"font-weight: bold\">Um agente de viagens:</span> Percebe as preferências do cliente, atua para organizar viagens.                       \n",
       "\n",
       "A ideia central é que um agente é uma entidade com alguma capacidade de <span style=\"font-weight: bold\">autonomia</span> e <span style=\"font-weight: bold\">propósito</span> em relação ao seu    \n",
       "ambiente.                                                                                                          \n",
       "</pre>\n"
      ],
      "text/plain": [
       "Um \u001b[1magente\u001b[0m é, em sua essência, algo que \u001b[1mpercebe\u001b[0m seu ambiente e \u001b[1matua\u001b[0m nele para alcançar certos \u001b[1mobjetivos\u001b[0m.            \n",
       "\n",
       "Essa definição é bastante ampla e pode ser aplicada em diversos contextos, desde a biologia até a inteligência     \n",
       "artificial.                                                                                                        \n",
       "\n",
       "Vamos detalhar os componentes principais:                                                                          \n",
       "\n",
       "\u001b[1;33m 1 \u001b[0m\u001b[1mPercepção (Sensores):\u001b[0m O agente precisa ser capaz de \"sentir\" ou \"observar\" o que está acontecendo em seu        \n",
       "\u001b[1;33m   \u001b[0mambiente. Isso pode ser feito através de:                                                                       \n",
       "\u001b[1;33m   \u001b[0m\u001b[1;33m • \u001b[0m\u001b[1mSentidos biológicos:\u001b[0m Olhos, ouvidos, tato, olfato (para humanos e animais).                                  \n",
       "\u001b[1;33m   \u001b[0m\u001b[1;33m • \u001b[0m\u001b[1mSensores eletrônicos:\u001b[0m Câmeras, microfones, radares, GPS, termômetros (para robôs e sistemas de IA).          \n",
       "\u001b[1;33m   \u001b[0m\u001b[1;33m • \u001b[0m\u001b[1mDados de entrada:\u001b[0m Informações digitais, comandos de usuário, dados de bancos de dados (para agentes de       \n",
       "\u001b[1;33m   \u001b[0m\u001b[1;33m   \u001b[0msoftware).                                                                                                   \n",
       "\u001b[1;33m 2 \u001b[0m\u001b[1mAmbiente:\u001b[0m É o mundo ou o contexto onde o agente opera e interage. Pode ser:                                     \n",
       "\u001b[1;33m   \u001b[0m\u001b[1;33m • \u001b[0mO mundo físico (para um robô, um carro autônomo).                                                            \n",
       "\u001b[1;33m   \u001b[0m\u001b[1;33m • \u001b[0mUm sistema de computador, a internet (para um chatbot, um sistema de recomendação).                          \n",
       "\u001b[1;33m   \u001b[0m\u001b[1;33m • \u001b[0mUm corpo humano (para um vírus ou bactéria).                                                                 \n",
       "\u001b[1;33m 3 \u001b[0m\u001b[1mAção (Atuadores):\u001b[0m O agente precisa ser capaz de \"fazer\" algo no ambiente, de influenciá-lo. Isso pode ser       \n",
       "\u001b[1;33m   \u001b[0matravés de:                                                                                                     \n",
       "\u001b[1;33m   \u001b[0m\u001b[1;33m • \u001b[0m\u001b[1mMovimento físico:\u001b[0m Andar, pegar, empurrar (para humanos, animais, robôs).                                     \n",
       "\u001b[1;33m   \u001b[0m\u001b[1;33m • \u001b[0m\u001b[1mComandos digitais:\u001b[0m Enviar uma mensagem, exibir uma informação, modificar um arquivo, executar um programa    \n",
       "\u001b[1;33m   \u001b[0m\u001b[1;33m   \u001b[0m(para agentes de software).                                                                                  \n",
       "\u001b[1;33m   \u001b[0m\u001b[1;33m • \u001b[0m\u001b[1mReações químicas/biológicas:\u001b[0m Multiplicação, liberação de toxinas (para agentes biológicos).                  \n",
       "\u001b[1;33m 4 \u001b[0m\u001b[1mObjetivos:\u001b[0m O agente geralmente tem uma razão para agir, um propósito. Pode ser:                                 \n",
       "\u001b[1;33m   \u001b[0m\u001b[1;33m • \u001b[0mSobreviver, reproduzir (para agentes biológicos).                                                            \n",
       "\u001b[1;33m   \u001b[0m\u001b[1;33m • \u001b[0mCompletar uma tarefa, otimizar um processo, responder a uma pergunta (para agentes de IA e software).        \n",
       "\u001b[1;33m   \u001b[0m\u001b[1;33m • \u001b[0mAlcançar um estado desejado (para um sistema de controle).                                                   \n",
       "\n",
       "\u001b[1mEm resumo, um agente é uma entidade que:\u001b[0m                                                                           \n",
       "\n",
       "\u001b[1;33m • \u001b[0m\u001b[1mObserva\u001b[0m (percebe) seu entorno.                                                                                  \n",
       "\u001b[1;33m • \u001b[0m\u001b[1mProcessa\u001b[0m essa informação (toma decisões, raciocina).                                                            \n",
       "\u001b[1;33m • \u001b[0m\u001b[1mAge\u001b[0m (atua) no ambiente.                                                                                         \n",
       "\u001b[1;33m • \u001b[0mCom o objetivo de alcançar um \u001b[1mfim específico\u001b[0m.                                                                   \n",
       "\n",
       "\u001b[33m───────────────────────────────────────────────────────────────────────────────────────────────────────────────────\u001b[0m\n",
       "\u001b[1mExemplos de Agentes em diferentes contextos:\u001b[0m                                                                       \n",
       "\n",
       "\u001b[1;33m • \u001b[0m\u001b[1mInteligência Artificial (IA):\u001b[0m                                                                                   \n",
       "\u001b[1;33m   \u001b[0m\u001b[1;33m • \u001b[0m\u001b[1mAgente de software:\u001b[0m Um chatbot que responde a perguntas, um sistema de recomendação que sugere produtos, um  \n",
       "\u001b[1;33m   \u001b[0m\u001b[1;33m   \u001b[0mweb crawler que indexa páginas da internet.                                                                  \n",
       "\u001b[1;33m   \u001b[0m\u001b[1;33m • \u001b[0m\u001b[1mAgente robótico:\u001b[0m Um carro autônomo que percebe a estrada e dirige, um robô industrial que manipula peças, um \n",
       "\u001b[1;33m   \u001b[0m\u001b[1;33m   \u001b[0mdrone que mapeia uma área.                                                                                   \n",
       "\u001b[1;33m   \u001b[0m\u001b[1;33m • \u001b[0m\u001b[1mAgente de jogo:\u001b[0m Um personagem não-jogador (NPC) em um videogame que reage ao jogador e ao ambiente.          \n",
       "\u001b[1;33m • \u001b[0m\u001b[1mBiologia:\u001b[0m                                                                                                       \n",
       "\u001b[1;33m   \u001b[0m\u001b[1;33m • \u001b[0m\u001b[1mUm animal:\u001b[0m Percebe predadores, busca alimento, se reproduz.                                                  \n",
       "\u001b[1;33m   \u001b[0m\u001b[1;33m • \u001b[0m\u001b[1mUm vírus ou bactéria:\u001b[0m Invade células, se replica, causa doenças.                                             \n",
       "\u001b[1;33m • \u001b[0m\u001b[1mEconomia/Sociologia:\u001b[0m                                                                                            \n",
       "\u001b[1;33m   \u001b[0m\u001b[1;33m • \u001b[0m\u001b[1mUm agente econômico:\u001b[0m Uma pessoa, uma empresa, um governo que toma decisões e age no mercado.                 \n",
       "\u001b[1;33m   \u001b[0m\u001b[1;33m • \u001b[0m\u001b[1mUm agente de mudança:\u001b[0m Uma pessoa ou grupo que influencia transformações sociais.                             \n",
       "\u001b[1;33m • \u001b[0m\u001b[1mCotidiano:\u001b[0m                                                                                                      \n",
       "\u001b[1;33m   \u001b[0m\u001b[1;33m • \u001b[0m\u001b[1mUm agente imobiliário:\u001b[0m Percebe as necessidades do cliente e do mercado, atua para vender ou alugar imóveis.  \n",
       "\u001b[1;33m   \u001b[0m\u001b[1;33m • \u001b[0m\u001b[1mUm agente de viagens:\u001b[0m Percebe as preferências do cliente, atua para organizar viagens.                       \n",
       "\n",
       "A ideia central é que um agente é uma entidade com alguma capacidade de \u001b[1mautonomia\u001b[0m e \u001b[1mpropósito\u001b[0m em relação ao seu    \n",
       "ambiente.                                                                                                          \n"
      ]
     },
     "execution_count": 53,
     "metadata": {},
     "output_type": "execute_result"
    }
   ],
   "source": [
    "from rich.markdown import Markdown\n",
    "Markdown(result.content)"
   ]
  },
  {
   "cell_type": "markdown",
   "id": "9a24d8ef",
   "metadata": {},
   "source": [
    "## Ferramentas\n",
    "\n",
    "[Ferramentas](https://python.langchain.com/docs/concepts/tools/) são utilitários que podem ser chamados por um modelo de chat. No LangChain, criar ferramentas pode ser feito usando o decorador `@tool`, que transforma funções Python em ferramentas chamáveis. Ele automaticamente inferirá o nome da ferramenta, descrição e argumentos esperados da definição da função. Você também pode usar [servidores Model Context Protocol (MCP)](https://github.com/langchain-ai/langchain-mcp-adapters) como ferramentas compatíveis com LangChain."
   ]
  },
  {
   "cell_type": "code",
   "execution_count": 54,
   "id": "afdff275",
   "metadata": {},
   "outputs": [],
   "source": [
    "from langchain.tools import tool\n",
    "\n",
    "@tool\n",
    "def write_email(to: str, subject: str, content: str) -> str:\n",
    "    \"\"\"Escrever e enviar um email.\"\"\"\n",
    "    # Resposta placeholder - em aplicação real enviaria email\n",
    "    return f\"Email enviado para {to} com assunto '{subject}' e conteúdo: {content}\""
   ]
  },
  {
   "cell_type": "code",
   "execution_count": 55,
   "id": "c52ec55b-0b60-4b0c-95d4-ff528a64694e",
   "metadata": {},
   "outputs": [
    {
     "data": {
      "text/plain": [
       "langchain_core.tools.structured.StructuredTool"
      ]
     },
     "execution_count": 55,
     "metadata": {},
     "output_type": "execute_result"
    }
   ],
   "source": [
    "type(write_email)"
   ]
  },
  {
   "cell_type": "code",
   "execution_count": 56,
   "id": "23a40647-3d48-4760-aabe-144d627de110",
   "metadata": {},
   "outputs": [
    {
     "data": {
      "text/plain": [
       "{'to': {'title': 'To', 'type': 'string'},\n",
       " 'subject': {'title': 'Subject', 'type': 'string'},\n",
       " 'content': {'title': 'Content', 'type': 'string'}}"
      ]
     },
     "execution_count": 56,
     "metadata": {},
     "output_type": "execute_result"
    }
   ],
   "source": [
    "write_email.args"
   ]
  },
  {
   "cell_type": "code",
   "execution_count": 57,
   "id": "abd85ae4-9d4c-4efa-9577-aca96e9f22cd",
   "metadata": {},
   "outputs": [
    {
     "data": {
      "text/html": [
       "<pre style=\"white-space:pre;overflow-x:auto;line-height:normal;font-family:Menlo,'DejaVu Sans Mono',consolas,'Courier New',monospace\">Escrever e enviar um email.                                                                                        \n",
       "</pre>\n"
      ],
      "text/plain": [
       "Escrever e enviar um email.                                                                                        \n"
      ]
     },
     "execution_count": 57,
     "metadata": {},
     "output_type": "execute_result"
    }
   ],
   "source": [
    "Markdown(write_email.description)"
   ]
  },
  {
   "cell_type": "markdown",
   "id": "c8a6b427",
   "metadata": {},
   "source": [
    "## Chamada de Ferramentas\n",
    "\n",
    "Ferramentas podem ser [chamadas](https://python.langchain.com/docs/concepts/tool_calling/) por LLMs. Quando uma ferramenta é vinculada ao modelo, o modelo pode escolher chamar a ferramenta retornando uma saída estruturada com argumentos da ferramenta. Usamos o método `bind_tools` para aumentar um LLM com ferramentas.\n",
    "\n",
    "![tool-img](img/tool_call_detail.png)\n",
    "\n",
    "Provedores frequentemente têm [parâmetros como `tool_choice`](https://python.langchain.com/docs/how_to/tool_choice/) para forçar a chamada de ferramentas específicas. `any` selecionará pelo menos uma das ferramentas.\n",
    "\n",
    "Além disso, podemos [definir `parallel_tool_calls=False`](https://python.langchain.com/docs/how_to/tool_calling_parallel/) para garantir que o modelo só chamará uma ferramenta por vez (funcionalidade suportada apenas pela OpenAI e Anthropic)."
   ]
  },
  {
   "cell_type": "code",
   "execution_count": 58,
   "id": "bfa57bc4",
   "metadata": {},
   "outputs": [],
   "source": [
    "# Conectar ferramentas a um modelo de chat com tool_choice=\"any\" para forçar uso de ferramentas\n",
    "model_with_tools = llm.bind_tools([write_email], tool_choice=\"any\")\n",
    "\n",
    "# O modelo agora será capaz de chamar ferramentas\n",
    "output = model_with_tools.invoke(\"Rascunhe uma resposta para meu chefe (chefe@empresa.com.br) sobre a reunião de amanhã\")"
   ]
  },
  {
   "cell_type": "code",
   "execution_count": 59,
   "id": "7985eab6-9e6b-4fa5-8027-52d32886b97e",
   "metadata": {},
   "outputs": [
    {
     "data": {
      "text/plain": [
       "langchain_core.messages.ai.AIMessage"
      ]
     },
     "execution_count": 59,
     "metadata": {},
     "output_type": "execute_result"
    }
   ],
   "source": [
    "type(output)"
   ]
  },
  {
   "cell_type": "code",
   "execution_count": 60,
   "id": "ea0ce030-e760-4679-838f-d88d1480664e",
   "metadata": {},
   "outputs": [
    {
     "data": {
      "text/plain": [
       "AIMessage(content='', additional_kwargs={'function_call': {'name': 'write_email', 'arguments': '{\"to\": \"chefe@empresa.com.br\", \"content\": \"Prezado(a) Chefe, confirmo minha presen\\\\u00e7a na reuni\\\\u00e3o de amanh\\\\u00e3. Atenciosamente, [Seu Nome]\", \"subject\": \"Reuni\\\\u00e3o de amanh\\\\u00e3\"}'}}, response_metadata={'prompt_feedback': {'block_reason': 0, 'safety_ratings': []}, 'finish_reason': 'STOP', 'safety_ratings': []}, id='run--f3be2f3f-34cc-4b2f-9d39-a66f45634793-0', tool_calls=[{'name': 'write_email', 'args': {'to': 'chefe@empresa.com.br', 'content': 'Prezado(a) Chefe, confirmo minha presença na reunião de amanhã. Atenciosamente, [Seu Nome]', 'subject': 'Reunião de amanhã'}, 'id': '17c695e9-ee34-4b76-b473-70df21f17415', 'type': 'tool_call'}], usage_metadata={'input_tokens': 89, 'output_tokens': 65, 'total_tokens': 238, 'input_token_details': {'cache_read': 0}})"
      ]
     },
     "execution_count": 60,
     "metadata": {},
     "output_type": "execute_result"
    }
   ],
   "source": [
    "output"
   ]
  },
  {
   "cell_type": "code",
   "execution_count": 61,
   "id": "717779cb",
   "metadata": {},
   "outputs": [],
   "source": [
    "# Extrair chamadas de ferramenta e executá-las\n",
    "if output.tool_calls:\n",
    "\targs = output.tool_calls[0]['args']\n",
    "\targs\n",
    "else:\n",
    "\tprint(\"Nenhuma chamada de ferramenta encontrada na resposta do modelo.\")\n",
    "\targs = None\n",
    "\targs"
   ]
  },
  {
   "cell_type": "code",
   "execution_count": null,
   "id": "09f85694",
   "metadata": {},
   "outputs": [
    {
     "name": "stdout",
     "output_type": "stream",
     "text": [
      "Email enviado para chefe@empresa.com.br com assunto 'Reunião de amanhã' e conteúdo: Prezado(a) Chefe, confirmo minha presença na reunião de amanhã. Atenciosamente, [Seu Nome]\n"
     ]
    }
   ],
   "source": [
    "# Extrair os argumentos da chamada de ferramenta do output\n",
    "if hasattr(output, \"tool_calls\") and output.tool_calls:\n",
    "\targs = output.tool_calls[0]['args']\n",
    "\tresult = write_email.invoke(args)\n",
    "\tprint(result)\n",
    "else:\n",
    "\tprint(\"Nenhuma chamada de ferramenta encontrada na resposta do modelo.\")"
   ]
  },
  {
   "cell_type": "markdown",
   "id": "b6f9c52a",
   "metadata": {},
   "source": [
    "![basic_prompt](img/tool_call.png)\n",
    "\n",
    "## Fluxos de Trabalho\n",
    " \n",
    "Existem muitos padrões para construir aplicações com LLMs.\n",
    "\n",
    "[Podemos incorporar chamadas de LLM em fluxos de trabalho pré-definidos](https://langchain-ai.github.io/langgraph/tutorials/workflows/), dando ao sistema mais autonomia para tomar decisões.\n",
    "\n",
    "Como exemplo, poderíamos adicionar uma etapa de roteador para determinar se devemos escrever um email ou não.\n",
    "\n",
    "![workflow_example](img/workflow_example.png)\n",
    "\n",
    "## Agentes\n",
    "\n",
    "Podemos aumentar ainda mais a autonomia, permitindo que o LLM direcione dinamicamente seu próprio uso de ferramentas.\n",
    "\n",
    "[Agentes](https://langchain-ai.github.io/langgraph/tutorials/workflows/#agent) são tipicamente implementados como chamada de ferramenta em um loop, onde a saída de cada chamada de ferramenta é usada para informar a próxima ação.\n",
    "\n",
    "![agent_example](img/agent_example.png)\n",
    "\n",
    "Agentes são bem adequados para problemas abertos onde é difícil prever os passos *exatos* necessários com antecedência.\n",
    "\n",
    "Fluxos de trabalho são frequentemente apropriados quando o fluxo de controle pode ser facilmente definido com antecedência.\n",
    "\n",
    "![workflow_v_agent](img/workflow_v_agent.png)\n",
    "\n",
    "## O que é LangGraph?\n",
    "\n",
    "[LangGraph](https://langchain-ai.github.io/langgraph/concepts/high_level/) fornece infraestrutura de suporte de baixo nível que fica por baixo de *qualquer* fluxo de trabalho ou agente.\n",
    "\n",
    "Ele não abstrai prompts ou arquitetura, e fornece alguns benefícios:\n",
    "\n",
    "- **Controle**: Facilita definir e/ou combinar agentes e fluxos de trabalho.\n",
    "- **Persistência**: Fornece uma maneira de persistir o estado de um grafo, o que permite tanto memória quanto humano-no-loop.\n",
    "- **Teste, Depuração e Deployment**: Fornece uma rampa fácil para testar, depurar e fazer deploy de aplicações.\n",
    "\n",
    "### Controle\n",
    "\n",
    "LangGraph permite definir sua aplicação como um grafo com:\n",
    "\n",
    "1. *Estado*: Que informações precisamos rastrear ao longo da aplicação?\n",
    "2. *Nós*: Como queremos atualizar essas informações ao longo da aplicação?\n",
    "3. *Arestas*: Como queremos conectar esses nós?\n",
    "\n",
    "Podemos usar a classe [`StateGraph`](https://langchain-ai.github.io/langgraph/concepts/low_level/#graphs) para inicializar um grafo LangGraph com um objeto [`State`](https://langchain-ai.github.io/langgraph/concepts/low_level/#state).\n",
    "\n",
    "`State` define o esquema para as informações que queremos rastrear ao longo da aplicação.\n",
    "\n",
    "Isso pode ser qualquer objeto com `getattr()` em python, como um dicionário, dataclass, ou objeto Pydantic:\n",
    "\n",
    "- TypeDict é mais rápido mas não suporta padrões\n",
    "- Dataclass é basicamente tão rápido, suporta sintaxe de ponto `state.foo`, e tem padrões.\n",
    "- Pydantic é mais lento (especialmente com validadores customizados) mas fornece validação de tipo."
   ]
  },
  {
   "cell_type": "code",
   "execution_count": null,
   "id": "3319290a",
   "metadata": {},
   "outputs": [],
   "source": "from typing import TypedDict, Literal\nfrom langgraph.graph import StateGraph, START, END, MessagesState\n\nclass StateSchema(TypedDict):\n    request: str\n    email: str\n\nworkflow = StateGraph(StateSchema)"
  },
  {
   "cell_type": "markdown",
   "id": "b84bedb9",
   "metadata": {},
   "source": [
    "Cada nó é simplesmente uma função python ou código typescript. Isso nos dá controle total sobre a lógica dentro de cada nó.\n",
    "\n",
    "Eles recebem o estado atual, e retornam um dicionário para atualizar o estado.\n",
    "\n",
    "Por padrão, [chaves de estado são sobrescritas](https://langchain-ai.github.io/langgraph/how-tos/state-reducers/).\n",
    "\n",
    "No entanto, você pode [definir lógica de atualização customizada](https://langchain-ai.github.io/langgraph/concepts/low_level/#reducers).\n",
    "\n",
    "![nodes_edges](img/nodes_edges.png)"
   ]
  },
  {
   "cell_type": "code",
   "execution_count": null,
   "id": "d5e79c1f",
   "metadata": {},
   "outputs": [],
   "source": [
    "def write_email_node(state: StateSchema) -> StateSchema:\n",
    "    # Código imperativo que processa a solicitação\n",
    "    output = model_with_tools.invoke(state[\"request\"])\n",
    "\n",
    "    # Verificar se o modelo fez chamadas de ferramenta\n",
    "    if hasattr(output, \"tool_calls\") and output.tool_calls:\n",
    "        args = output.tool_calls[0]['args']\n",
    "        email = write_email.invoke(args)\n",
    "        return {\"email\": email}\n",
    "    else:\n",
    "        # Se não houver chamadas de ferramenta, retornar resposta como texto\n",
    "        return {\"email\": f\"Resposta do modelo: {output.content}\"}"
   ]
  },
  {
   "cell_type": "markdown",
   "id": "737c8040",
   "metadata": {},
   "source": [
    "Arestas conectam nós.\n",
    "\n",
    "Especificamos o fluxo de controle adicionando arestas e nós ao nosso grafo de estado."
   ]
  },
  {
   "cell_type": "code",
   "execution_count": 28,
   "id": "554e0d8b",
   "metadata": {},
   "outputs": [],
   "source": [
    "workflow = StateGraph(StateSchema)\n",
    "workflow.add_node(\"write_email_node\", write_email_node)\n",
    "workflow.add_edge(START, \"write_email_node\")\n",
    "workflow.add_edge(\"write_email_node\", END)\n",
    "\n",
    "app = workflow.compile()"
   ]
  },
  {
   "cell_type": "code",
   "execution_count": 29,
   "id": "7cc79b40",
   "metadata": {},
   "outputs": [
    {
     "data": {
      "text/plain": [
       "{'request': 'Rascunhe uma resposta para meu chefe (chefe@empresa.com.br) sobre a reunião de amanhã',\n",
       " 'email': 'Resposta do modelo: Ok, qual seria o assunto e o conteúdo do e-mail?'}"
      ]
     },
     "execution_count": 29,
     "metadata": {},
     "output_type": "execute_result"
    }
   ],
   "source": [
    "app.invoke({\"request\": \"Rascunhe uma resposta para meu chefe (chefe@empresa.com.br) sobre a reunião de amanhã\"})"
   ]
  },
  {
   "cell_type": "markdown",
   "id": "2446dea9",
   "metadata": {},
   "source": [
    "O roteamento entre nós pode ser feito [condicionalmente](https://langchain-ai.github.io/langgraph/concepts/low_level/#conditional-edges) usando uma função simples.\n",
    "\n",
    "O valor de retorno desta função é usado como o nome do nó (ou lista de nós) para o qual enviar o estado a seguir.\n",
    "\n",
    "Você pode opcionalmente fornecer um dicionário que mapeia a saída `should_continue` para o nome do próximo nó."
   ]
  },
  {
   "cell_type": "code",
   "execution_count": null,
   "id": "f29b05bf",
   "metadata": {},
   "outputs": [],
   "source": "from email_assistant.utils import show_graph\n\ndef call_llm(state: MessagesState) -> MessagesState:\n    \"\"\"Executar LLM\"\"\"\n\n    output = model_with_tools.invoke(state[\"messages\"])\n    return {\"messages\": [output]}\n\ndef run_tool(state: MessagesState):\n    \"\"\"Executa a chamada de ferramenta\"\"\"\n\n    result = []\n    for tool_call in state[\"messages\"][-1].tool_calls:\n        observation = write_email.invoke(tool_call[\"args\"])\n        result.append({\"role\": \"tool\", \"content\": observation, \"tool_call_id\": tool_call[\"id\"]})\n    return {\"messages\": result}\n\ndef should_continue(state: MessagesState) -> Literal[\"run_tool\", \"__end__\"]:\n    \"\"\"Rotear para manipulador de ferramenta, ou terminar se ferramenta Done foi chamada\"\"\"\n\n    # Obter a última mensagem\n    messages = state[\"messages\"]\n    last_message = messages[-1]\n\n    # Se a última mensagem for uma chamada de ferramenta, verificar se é uma chamada de ferramenta Done\n    if last_message.tool_calls:\n        return \"run_tool\"\n    # Caso contrário, paramos (respondemos ao usuário)\n    return END\n\nworkflow = StateGraph(MessagesState)\nworkflow.add_node(\"call_llm\", call_llm)\nworkflow.add_node(\"run_tool\", run_tool)\nworkflow.add_edge(START, \"call_llm\")\nworkflow.add_conditional_edges(\"call_llm\", should_continue, {\"run_tool\": \"run_tool\", END: END})\nworkflow.add_edge(\"run_tool\", END)\n\n# Execute o fluxo de trabalho\napp = workflow.compile()"
  },
  {
   "cell_type": "code",
   "execution_count": null,
   "id": "fd9f07af-c633-4527-b2d9-52c6451dc9c5",
   "metadata": {},
   "outputs": [],
   "source": [
    "show_graph(app)"
   ]
  },
  {
   "cell_type": "code",
   "execution_count": null,
   "id": "dadbafde",
   "metadata": {},
   "outputs": [],
   "source": [
    "result = app.invoke({\"messages\": [{\"role\": \"user\", \"content\": \"Rascunhe uma resposta para meu chefe (chefe@empresa.com.br) confirmando que quero participar do Interrupt!\"}]})\n",
    "for m in result[\"messages\"]:\n",
    "    m.pretty_print()"
   ]
  },
  {
   "cell_type": "markdown",
   "id": "a78b232d",
   "metadata": {},
   "source": [
    "Com esses componentes de baixo nível, você pode construir muitos fluxos de trabalho e agentes diferentes. Veja [este tutorial](https://langchain-ai.github.io/langgraph/tutorials/workflows/)!\n",
    "\n",
    "Como agentes são um padrão tão comum, o [LangGraph](https://langchain-ai.github.io/langgraph/tutorials/workflows/#pre-built) tem [uma abstração de agente pré-construída](https://langchain-ai.github.io/langgraph/agents/overview/?ref=blog.langchain.dev#what-is-an-agent).\n",
    "\n",
    "Com o [método pré-construído](https://langchain-ai.github.io/langgraph/tutorials/workflows/#pre-built) do LangGraph, apenas passamos o LLM, ferramentas e prompt."
   ]
  },
  {
   "cell_type": "code",
   "execution_count": null,
   "id": "5a317ad8",
   "metadata": {},
   "outputs": [],
   "source": [
    "from langgraph.prebuilt import create_react_agent\n",
    "\n",
    "agent = create_react_agent(\n",
    "    model=llm,\n",
    "    tools=[write_email],\n",
    "    prompt=\"Responda à solicitação do usuário usando as ferramentas fornecidas.\"\n",
    ")\n",
    "\n",
    "# Execute o agente\n",
    "result = agent.invoke(\n",
    "    {\"messages\": [{\"role\": \"user\", \"content\": \"Rascunhe uma resposta para meu chefe (chefe@empresa.com.br) confirmando que quero participar do Interrupt!\"}]}\n",
    ")\n",
    "\n",
    "for m in result[\"messages\"]:\n",
    "    m.pretty_print()"
   ]
  },
  {
   "cell_type": "markdown",
   "id": "3c6e506f",
   "metadata": {},
   "source": [
    "### Persistência\n",
    "\n",
    "#### Threads\n",
    "\n",
    "Pode ser muito útil permitir que agentes pausem durante tarefas de longa duração.\n",
    "\n",
    "LangGraph tem uma camada de persistência integrada, implementada através de checkpointers, para permitir isso.\n",
    "\n",
    "Quando você compila o grafo com um checkpointer, o checkpointer salva um [checkpoint](https://langchain-ai.github.io/langgraph/concepts/persistence/#checkpoints) do estado do grafo a cada passo.\n",
    "\n",
    "Checkpoints são salvos em uma thread, que pode ser acessada após a execução do grafo ser completada.\n",
    "\n",
    "![checkpointer](img/checkpoints.png)\n",
    "\n",
    "Compilamos o grafo com um [checkpointer](https://langchain-ai.github.io/langgraph/concepts/persistence/#checkpointer-libraries)."
   ]
  },
  {
   "cell_type": "code",
   "execution_count": null,
   "id": "9a72377e",
   "metadata": {},
   "outputs": [],
   "source": [
    "from langgraph.checkpoint.memory import InMemorySaver\n",
    "\n",
    "agent = create_react_agent(\n",
    "    model=llm,\n",
    "    tools=[write_email],\n",
    "    prompt=\"Responda à solicitação do usuário usando as ferramentas fornecidas.\",\n",
    "    checkpointer=InMemorySaver()\n",
    ")\n",
    "\n",
    "config = {\"configurable\": {\"thread_id\": \"1\"}}\n",
    "result = agent.invoke({\"messages\": [{\"role\": \"user\", \"content\": \"Quais são algumas boas práticas para escrever emails?\"}]}, config)"
   ]
  },
  {
   "cell_type": "code",
   "execution_count": null,
   "id": "10984007",
   "metadata": {},
   "outputs": [],
   "source": [
    "# Obter o snapshot de estado mais recente\n",
    "config = {\"configurable\": {\"thread_id\": \"1\"}}\n",
    "state = agent.get_state(config)\n",
    "for message in state.values['messages']:\n",
    "    message.pretty_print()"
   ]
  },
  {
   "cell_type": "code",
   "execution_count": null,
   "id": "7f23ac58",
   "metadata": {},
   "outputs": [],
   "source": [
    "# Continue a conversa\n",
    "result = agent.invoke({\"messages\": [{\"role\": \"user\", \"content\": \"Bom, vamos usar a lição 3 para rascunhar uma resposta para meu chefe confirmando que quero participar do Interrupt\"}]}, config)\n",
    "for m in result['messages']:\n",
    "    m.pretty_print()"
   ]
  },
  {
   "cell_type": "code",
   "execution_count": null,
   "id": "5f09fe50",
   "metadata": {},
   "outputs": [],
   "source": [
    "# Continue a conversa\n",
    "result = agent.invoke({\"messages\": [{\"role\": \"user\", \"content\": \"Gostei disso, vamos escrever o email para chefe@empresa.com.br\"}]}, config)\n",
    "for m in result['messages']:\n",
    "    m.pretty_print()"
   ]
  },
  {
   "cell_type": "markdown",
   "id": "4ae8a5d2-cf8a-4465-8d1b-96bb6c6276cf",
   "metadata": {},
   "source": [
    "#### Interrupções\n",
    "\n",
    "No LangGraph, também podemos usar [interrupções](https://langchain-ai.github.io/langgraph/how-tos/human_in_the_loop/wait-user-input/) para parar a execução do grafo em pontos específicos.\n",
    "\n",
    "Frequentemente isso é usado para coletar entrada de um usuário e continuar a execução com a entrada coletada."
   ]
  },
  {
   "cell_type": "code",
   "execution_count": null,
   "id": "52c17b60-9474-49a5-b4a1-583b0dc8bba7",
   "metadata": {},
   "outputs": [],
   "source": "from typing_extensions import TypedDict\nfrom langgraph.graph import StateGraph, START, END\n\nfrom langgraph.types import Command, interrupt\nfrom langgraph.checkpoint.memory import InMemorySaver\nfrom email_assistant.utils import show_graph\n\nclass State(TypedDict):\n    input: str\n    user_feedback: str\n\ndef step_1(state):\n    print(\"---Step 1---\")\n    pass\n\ndef human_feedback(state):\n    print(\"---human_feedback---\")\n    feedback = interrupt(\"Por favor, forneça feedback:\")\n    return {\"user_feedback\": feedback}\n\ndef step_3(state):\n    print(\"---Step 3---\")\n    pass\n\nbuilder = StateGraph(State)\nbuilder.add_node(\"step_1\", step_1)\nbuilder.add_node(\"human_feedback\", human_feedback)\nbuilder.add_node(\"step_3\", step_3)\nbuilder.add_edge(START, \"step_1\")\nbuilder.add_edge(\"step_1\", \"human_feedback\")\nbuilder.add_edge(\"human_feedback\", \"step_3\")\nbuilder.add_edge(\"step_3\", END)\n\n# Configurar memória\nmemory = InMemorySaver()\n\n# Adicionar\ngraph = builder.compile(checkpointer=memory)"
  },
  {
   "cell_type": "code",
   "execution_count": null,
   "id": "57c94cb7-067c-4bc5-be33-b615d8e5775e",
   "metadata": {
    "scrolled": true
   },
   "outputs": [],
   "source": [
    "show_graph(graph)"
   ]
  },
  {
   "cell_type": "code",
   "execution_count": null,
   "id": "028372b5-88ae-4f13-813d-22430a697f07",
   "metadata": {},
   "outputs": [],
   "source": [
    "# Entrada\n",
    "initial_input = {\"input\": \"hello world\"}\n",
    "\n",
    "# Thread\n",
    "thread = {\"configurable\": {\"thread_id\": \"1\"}}\n",
    "\n",
    "# Execute o grafo até a primeira interrupção\n",
    "for event in graph.stream(initial_input, thread, stream_mode=\"updates\"):\n",
    "    print(event)\n",
    "    print(\"\\n\")"
   ]
  },
  {
   "cell_type": "markdown",
   "id": "f142d467-7b4c-4a04-bad5-bf3fbe953b84",
   "metadata": {},
   "source": [
    "Para retomar de uma interrupção, podemos usar [o objeto `Command`](https://langchain-ai.github.io/langgraph/how-tos/command/). \n",
    "\n",
    "Vamos usá-lo para retomar o grafo do estado interrompido, passando o valor para retornar da chamada de interrupção para `resume`."
   ]
  },
  {
   "cell_type": "code",
   "execution_count": null,
   "id": "d90374d3-65a1-4658-82ee-a16cc2835cf4",
   "metadata": {},
   "outputs": [],
   "source": [
    "# Continue a execução do grafo\n",
    "for event in graph.stream(\n",
    "    Command(resume=\"ir para o passo 3!\"),\n",
    "    thread,\n",
    "    stream_mode=\"updates\",\n",
    "):\n",
    "    print(event)\n",
    "    print(\"\\n\")"
   ]
  },
  {
   "cell_type": "markdown",
   "id": "8639a518",
   "metadata": {},
   "source": [
    "### Rastreamento\n",
    "\n",
    "Quando estamos usando LangChain ou LangGraph, o logging do LangSmith [funcionará automaticamente](https://docs.smith.langchain.com/observability/how_to_guides/trace_with_langgraph) com as seguintes variáveis de ambiente definidas:\n",
    "\n",
    "```\n",
    "export LANGSMITH_TRACING=true\n",
    "export LANGSMITH_API_KEY=\"<sua-chave-api-langsmith>\"\n",
    "```"
   ]
  },
  {
   "cell_type": "markdown",
   "id": "9cb2a3e5",
   "metadata": {},
   "source": [
    "Aqui está o rastreamento LangSmith da execução do agente acima:\n",
    "\n",
    "https://smith.langchain.com/public/6f77014f-d054-44ed-aa2c-8b06ceab689f/r\n",
    "\n",
    "Podemos ver que o agente é capaz de continuar a conversa do estado anterior porque usamos um checkpointer."
   ]
  },
  {
   "cell_type": "markdown",
   "id": "f0269214",
   "metadata": {},
   "source": [
    "Também podemos implantar nosso grafo usando a [LangGraph Platform](https://langchain-ai.github.io/langgraph/concepts/langgraph_platform/). \n",
    "\n",
    "Isso cria um servidor [com uma API](https://langchain-ai.github.io/langgraph/cloud/reference/api/api_ref.html) que podemos usar para interagir com nosso grafo e um IDE interativo, o LangGraph [Studio](https://langchain-ai.github.io/langgraph/concepts/langgraph_studio/).\n",
    "\n",
    "Precisamos apenas garantir que nosso projeto tenha [uma estrutura](https://langchain-ai.github.io/langgraph/concepts/application_structure/) como esta:"
   ]
  },
  {
   "cell_type": "markdown",
   "id": "f3644093",
   "metadata": {},
   "source": [
    "Aqui podemos ver uma visualização do grafo bem como o estado do grafo no Studio.\n",
    "\n",
    "![langgraph_studio](img/langgraph_studio.png)\n",
    "\n",
    "Além disso, você pode ver a documentação da API para a implantação local aqui:\n",
    "\n",
    "http://127.0.0.1:2024/docs"
   ]
  }
 ],
 "metadata": {
  "jupytext": {
   "cell_metadata_filter": "-all",
   "main_language": "python",
   "notebook_metadata_filter": "-all"
  },
  "kernelspec": {
   "display_name": ".venv (3.12.3)",
   "language": "python",
   "name": "python3"
  },
  "language_info": {
   "codemirror_mode": {
    "name": "ipython",
    "version": 3
   },
   "file_extension": ".py",
   "mimetype": "text/x-python",
   "name": "python",
   "nbconvert_exporter": "python",
   "pygments_lexer": "ipython3",
   "version": "3.12.3"
  }
 },
 "nbformat": 4,
 "nbformat_minor": 5
}